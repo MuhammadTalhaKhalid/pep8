{
 "cells": [
  {
   "cell_type": "code",
   "execution_count": 1,
   "id": "89c1f11a-b9fa-4545-a338-1b8ab164423c",
   "metadata": {},
   "outputs": [
    {
     "data": {
      "text/plain": [
       "True"
      ]
     },
     "execution_count": 1,
     "metadata": {},
     "output_type": "execute_result"
    }
   ],
   "source": [
    "lis = [3,4,5,6]\n",
    "6 in lis"
   ]
  },
  {
   "cell_type": "code",
   "execution_count": 40,
   "id": "1a1043cc-ee0b-48a9-a55d-ca4ea874fe7a",
   "metadata": {},
   "outputs": [],
   "source": [
    "def prime(num):\n",
    "    isdiv = False\n",
    "    for i in range(2, num):\n",
    "        if num%i == 0:\n",
    "            isdiv = True\n",
    "    if isdiv == True:\n",
    "        print(f'{num} is not  prime')\n",
    "    else:\n",
    "        print(f'{num} is a  prime number')\n",
    "        "
   ]
  },
  {
   "cell_type": "code",
   "execution_count": 41,
   "id": "8f75396b-7257-47b8-8932-24229662c899",
   "metadata": {},
   "outputs": [
    {
     "name": "stdout",
     "output_type": "stream",
     "text": [
      "17 is a  prime number\n"
     ]
    }
   ],
   "source": [
    "prime(17)"
   ]
  },
  {
   "cell_type": "code",
   "execution_count": 1,
   "id": "30e2180b-f3b6-4714-ac00-5bfcab24c04b",
   "metadata": {},
   "outputs": [
    {
     "name": "stdout",
     "output_type": "stream",
     "text": [
      "15\n"
     ]
    }
   ],
   "source": [
    "def sum_of_digits(n):\n",
    "    n = abs(n)  # Ensure the number is positive\n",
    "    total = 0\n",
    "    \n",
    "    while n > 0:\n",
    "        total += n % 10  # Get the last digit\n",
    "        n //= 10  # Remove the last digit\n",
    "        \n",
    "    return total\n",
    "\n",
    "num = 12345\n",
    "print(sum_of_digits(num))\n"
   ]
  },
  {
   "cell_type": "code",
   "execution_count": 8,
   "id": "e8c120ae-ce68-43f0-9135-0122cc86f609",
   "metadata": {},
   "outputs": [],
   "source": [
    "a=float('inf')"
   ]
  },
  {
   "cell_type": "code",
   "execution_count": 12,
   "id": "526b59e5-98b6-4600-9c0e-5c0c16e20730",
   "metadata": {},
   "outputs": [
    {
     "data": {
      "text/plain": [
       "1223"
      ]
     },
     "execution_count": 12,
     "metadata": {},
     "output_type": "execute_result"
    }
   ],
   "source": [
    "12234//10"
   ]
  },
  {
   "cell_type": "code",
   "execution_count": null,
   "id": "57ee10b0-8e1e-443b-a1cf-31433d8e4945",
   "metadata": {},
   "outputs": [],
   "source": []
  },
  {
   "cell_type": "code",
   "execution_count": null,
   "id": "42990fb2-7f7e-41b0-abfb-de92b4d18bd9",
   "metadata": {},
   "outputs": [],
   "source": []
  },
  {
   "cell_type": "code",
   "execution_count": 55,
   "id": "9b556242-b107-4baf-9b25-8e3eb4965c46",
   "metadata": {},
   "outputs": [
    {
     "name": "stdout",
     "output_type": "stream",
     "text": [
      "5\n",
      "1234\n",
      "9\n",
      "123\n",
      "12\n",
      "12\n",
      "14\n",
      "1\n",
      "15\n",
      "0\n",
      "15\n"
     ]
    }
   ],
   "source": [
    "n = abs(12345)  \n",
    "total = 0\n",
    "num_digits = len(str(n)) \n",
    "for _ in range(num_digits):\n",
    "    total += n % 10  \n",
    "    print(total)\n",
    "  \n",
    "    n //= 10  \n",
    "    print(n)\n",
    "print(total)"
   ]
  },
  {
   "cell_type": "code",
   "execution_count": 56,
   "id": "b89d556d-a267-4bd3-aa8c-5f64ddf1123e",
   "metadata": {},
   "outputs": [
    {
     "name": "stdin",
     "output_type": "stream",
     "text": [
      "Enter first number:  10\n",
      "Enter second number:  5\n"
     ]
    },
    {
     "name": "stdout",
     "output_type": "stream",
     "text": [
      "After swapping: a = 5 b = 10\n"
     ]
    }
   ],
   "source": [
    "a = int(input(\"Enter first number: \"))\n",
    "b = int(input(\"Enter second number: \"))\n",
    "a = a + b\n",
    "b = a - b\n",
    "a = a - b\n",
    "print(\"After swapping: a =\", a, \"b =\", b)"
   ]
  },
  {
   "cell_type": "code",
   "execution_count": 16,
   "id": "50bba56d-5ded-40ed-aa1f-0145cca1e8d2",
   "metadata": {},
   "outputs": [
    {
     "name": "stdin",
     "output_type": "stream",
     "text": [
      "Enter a number:  1233\n"
     ]
    },
    {
     "name": "stdout",
     "output_type": "stream",
     "text": [
      "3\n",
      "3\n",
      "3\n",
      "33\n",
      "2\n",
      "332\n",
      "1\n",
      "3321\n",
      "Reversed number: 3321\n"
     ]
    }
   ],
   "source": [
    "num = int(input(\"Enter a number: \"))\n",
    "rev_num = 0\n",
    "\n",
    "while num > 0:\n",
    "    rev_num = (rev_num * 10) + (num % 10)\n",
    "    print(num % 10)\n",
    "    print(rev_num)\n",
    "    num //= 10\n",
    "\n",
    "print(\"Reversed number:\", rev_num)"
   ]
  },
  {
   "cell_type": "markdown",
   "id": "71e3e4b9-3d38-4862-8fca-45686faad18a",
   "metadata": {},
   "source": [
    "# Sum of Digits of a Number\n",
    "👉 Write a program to find the sum of digits of a given number using only arithmetic operators."
   ]
  },
  {
   "cell_type": "code",
   "execution_count": 2,
   "id": "1ed37b9b-190e-406b-9545-f88c883437cd",
   "metadata": {},
   "outputs": [
    {
     "name": "stdout",
     "output_type": "stream",
     "text": [
      "7\n"
     ]
    }
   ],
   "source": [
    "a = 205\n",
    "length = len(str(a))\n",
    "s = 0\n",
    "\n",
    "for _ in range(length):\n",
    "    last_digit = a % 10\n",
    "    s += last_digit\n",
    "    a //= 10\n",
    "\n",
    "print(s)"
   ]
  },
  {
   "cell_type": "code",
   "execution_count": 80,
   "id": "a4ba9932-3e20-432f-a0fe-692b387a0c82",
   "metadata": {},
   "outputs": [
    {
     "name": "stdout",
     "output_type": "stream",
     "text": [
      "7\n"
     ]
    }
   ],
   "source": [
    "num = 205\n",
    "s = 0\n",
    "\n",
    "while num > 0:\n",
    "    last_digit = num % 10\n",
    "    s += last_digit\n",
    "    num //= 10\n",
    "\n",
    "print(s)\n"
   ]
  },
  {
   "cell_type": "code",
   "execution_count": 81,
   "id": "d651435e-39ca-406c-ae5b-758cb67fc050",
   "metadata": {},
   "outputs": [
    {
     "data": {
      "text/plain": [
       "0"
      ]
     },
     "execution_count": 81,
     "metadata": {},
     "output_type": "execute_result"
    }
   ],
   "source": [
    "num"
   ]
  },
  {
   "cell_type": "markdown",
   "id": "0a3de67d-e67b-4a57-a2b0-93718fcc2176",
   "metadata": {},
   "source": [
    "# Count the Number of Digits in a Number\n",
    "👉 Take an integer as input and count how many digits it has using arithmetic operations (//)."
   ]
  },
  {
   "cell_type": "code",
   "execution_count": 82,
   "id": "909cf0fb-b2f9-41a0-8a55-29f4a1ac0e0d",
   "metadata": {},
   "outputs": [
    {
     "name": "stdout",
     "output_type": "stream",
     "text": [
      "3\n"
     ]
    }
   ],
   "source": [
    "num = 234\n",
    "count = 0\n",
    "\n",
    "while num > 0:\n",
    "    num //= 10\n",
    "    count += 1\n",
    "\n",
    "print(count)\n"
   ]
  },
  {
   "cell_type": "markdown",
   "id": "13569865-1d36-402d-9490-959578c15887",
   "metadata": {},
   "source": [
    "# reverse digit of a number"
   ]
  },
  {
   "cell_type": "code",
   "execution_count": 86,
   "id": "5ce990b3-7057-44d5-a06a-6143bab537e9",
   "metadata": {
    "jp-MarkdownHeadingCollapsed": true
   },
   "outputs": [
    {
     "name": "stdout",
     "output_type": "stream",
     "text": [
      "51\n"
     ]
    }
   ],
   "source": [
    "a = 15\n",
    "length = len(str(a))\n",
    "rev = \"\"\n",
    "\n",
    "for _ in range(length):\n",
    "    b = a % 10\n",
    "    rev += str(b)\n",
    "    a //= 10\n",
    "\n",
    "print(rev)\n"
   ]
  },
  {
   "cell_type": "code",
   "execution_count": 116,
   "id": "b49644cf-260d-4ede-99e8-289a3af30922",
   "metadata": {},
   "outputs": [
    {
     "name": "stdin",
     "output_type": "stream",
     "text": [
      "Enter a number:  121\n"
     ]
    },
    {
     "name": "stdout",
     "output_type": "stream",
     "text": [
      "Reversed number: 121\n"
     ]
    }
   ],
   "source": [
    "num = int(input(\"Enter a number: \"))\n",
    "rev_num = 0\n",
    "\n",
    "while num > 0:\n",
    "    rev_num = (rev_num * 10) + (num % 10)\n",
    "    num //= 10\n",
    "\n",
    "print(\"Reversed number:\", rev_num)\n"
   ]
  },
  {
   "cell_type": "markdown",
   "id": "bcd4650b-4523-45fd-b083-5b6c31644100",
   "metadata": {},
   "source": [
    "# Find the Power of a Number Without Using pow()\n",
    "👉 Compute a^b using only multiplication and loops (no ** or pow() function)."
   ]
  },
  {
   "cell_type": "code",
   "execution_count": 5,
   "id": "ab35691a-3a6f-4bdb-8a1b-61c68988d686",
   "metadata": {},
   "outputs": [
    {
     "name": "stdout",
     "output_type": "stream",
     "text": [
      "1000\n"
     ]
    }
   ],
   "source": [
    "a = 10\n",
    "b = 3\n",
    "power = 1\n",
    "for i in range(b):\n",
    "    power*= a\n",
    "print(power)"
   ]
  },
  {
   "cell_type": "code",
   "execution_count": 7,
   "id": "19c604f1-5cbc-4801-845c-0768d634b250",
   "metadata": {},
   "outputs": [
    {
     "name": "stdin",
     "output_type": "stream",
     "text": [
      "Enter base:  23\n",
      "Enter exponent:  2\n"
     ]
    },
    {
     "name": "stdout",
     "output_type": "stream",
     "text": [
      "Result: 529\n"
     ]
    }
   ],
   "source": [
    "base = int(input(\"Enter base: \"))\n",
    "exp = int(input(\"Enter exponent: \"))\n",
    "result = 1\n",
    "\n",
    "for _ in range(exp):\n",
    "    result*= base\n",
    "\n",
    "print(\"Result:\", result)\n"
   ]
  },
  {
   "cell_type": "markdown",
   "id": "32afb00c-7660-48a1-ad73-95c31c7cbe89",
   "metadata": {},
   "source": [
    "# You are counting items in the warehouse. There are 24 boxes, each containing 15 items. You need to determine how many items are left if 123 items are shipped out.\n",
    "Question: Write a Python expression to calculate the number of items left.\n"
   ]
  },
  {
   "cell_type": "code",
   "execution_count": 8,
   "id": "9c83d908-8862-473a-91b8-7b29b23d2e85",
   "metadata": {},
   "outputs": [
    {
     "name": "stdout",
     "output_type": "stream",
     "text": [
      "237\n",
      "15\n"
     ]
    }
   ],
   "source": [
    "boxes = 24\n",
    "items = 15\n",
    "\n",
    "# Find total items by multiplying the number of boxes by items per box\n",
    "total_items = boxes * items\n",
    "\n",
    "# Shipped out items\n",
    "shipped_out_items = 123\n",
    "\n",
    "# Total items left after shipment\n",
    "total_items_left = total_items - shipped_out_items\n",
    "\n",
    "# Total boxes left after shipment\n",
    "total_boxes_left = total_items_left // items\n",
    "\n",
    "print(total_items_left)\n",
    "print(total_boxes_left)\n"
   ]
  },
  {
   "cell_type": "markdown",
   "id": "4655e976-bc50-4094-9e1e-47031ba29bea",
   "metadata": {},
   "source": [
    "# Bonus Calculation (Conditions & Operators)\n",
    "DataTech gives a bonus to its employees based on their performance. If an employee achieves 90% or above, they get a 10% bonus. If the performance is between 70% and 89%, they get a 5% bonus. Otherwise, no bonus is given.\n",
    "Question: Write a Python program that calculates the bonus for an employee based on their performance percentage.\n"
   ]
  },
  {
   "cell_type": "code",
   "execution_count": 11,
   "id": "c0a7d4ae-0bd5-40ac-b1f7-0d6873a8d701",
   "metadata": {},
   "outputs": [
    {
     "name": "stdin",
     "output_type": "stream",
     "text": [
      "Enter performance %:  232434\n"
     ]
    },
    {
     "name": "stdout",
     "output_type": "stream",
     "text": [
      "Your bonus is 7500.0 and your total salary is 82500.0\n"
     ]
    }
   ],
   "source": [
    "salary = 75_000\n",
    "performance = int(input(\"Enter performance %: \"))\n",
    "\n",
    "if performance >= 90:\n",
    "    bonus = salary * 0.10\n",
    "elif 70 <= performance <= 79:\n",
    "    bonus = salary * 0.05\n",
    "else:\n",
    "    bonus = 0\n",
    "\n",
    "total_salary = salary + bonus\n",
    "\n",
    "if bonus > 0:\n",
    "    print(f\"Your bonus is {bonus} and your total salary is {total_salary}\")\n",
    "else:\n",
    "    print(f\"No bonus given. Your salary is {salary:.2f}\")\n"
   ]
  },
  {
   "cell_type": "markdown",
   "id": "495cfcda-7edd-4cc1-862b-1ee27fc7550d",
   "metadata": {},
   "source": [
    "\n",
    "# Question: Write a Python program that takes a list of numbers (feedback scores) and returns the average.\n"
   ]
  },
  {
   "cell_type": "code",
   "execution_count": 13,
   "id": "1abb5fcc-83ec-48b9-a748-f876f7d27228",
   "metadata": {},
   "outputs": [
    {
     "name": "stdout",
     "output_type": "stream",
     "text": [
      "average feedback score is 3.8\n"
     ]
    }
   ],
   "source": [
    "scores = [5, 3, 4, 2, 5]\n",
    "total_feedbacks = 0\n",
    "sum_scores = 0\n",
    "for score in scores:\n",
    "    total_feedbacks+= 1\n",
    "    sum_scores+= score\n",
    "average_score = sum_scores / total_feedbacks\n",
    "print(f'average feedback score is {average_score}')\n",
    "    \n",
    "    "
   ]
  },
  {
   "cell_type": "markdown",
   "id": "81a9c232-a505-4dc1-bfaf-4e684e7f4eb4",
   "metadata": {},
   "source": [
    "# Your manager wants to track which employees were present over the last 7 days. Each employee has a list of booleans representing their attendance for each day (e.g., attendance = [True, False, True, True, False, True, True]). The manager wants to know how many days the employee was present.\n",
    "Question: Write a Python program that takes a list of booleans and returns the count of True values (the number of days the employee was present)."
   ]
  },
  {
   "cell_type": "code",
   "execution_count": 14,
   "id": "b3c9755d-e4b0-4911-a840-784d5635c0eb",
   "metadata": {},
   "outputs": [
    {
     "name": "stdout",
     "output_type": "stream",
     "text": [
      "5\n"
     ]
    }
   ],
   "source": [
    "attendence = [True, False, True, True, False, True, True]\n",
    "true_count = 0\n",
    "\n",
    "for day in attendence:\n",
    "    if day == True:\n",
    "        true_count+= 1\n",
    "print(true_count)"
   ]
  },
  {
   "cell_type": "markdown",
   "id": "89de1ec8-12b4-4392-a9b4-1c8150fae00b",
   "metadata": {},
   "source": [
    "# Error Handling in Customer Data (Lists & Conditions)\n",
    "The customer data team is encountering errors because some customers have no email address or have provided an empty email.\n",
    "Question: You are given a list of customer emails: emails = [\"customer1@example.com\", \"\", \"customer3@example.com\", None, \"customer5@example.com\"]. \n",
    "Write a Python program that removes empty or None values from the list and returns the valid emails.\n"
   ]
  },
  {
   "cell_type": "code",
   "execution_count": 22,
   "id": "3225932f-536d-4420-a753-3438080f4e09",
   "metadata": {},
   "outputs": [],
   "source": [
    "emails = [\"customer1@example.com\", \"\", \"customer3@example.com\", None, \"customer5@example.com\"]\n",
    "updated_email = []\n",
    "for email in emails:\n",
    "    if email != \"\" and email != None:\n",
    "        updated_email.append(email)"
   ]
  },
  {
   "cell_type": "code",
   "execution_count": 23,
   "id": "fc1f0224-32d6-4cbd-8f13-0df32fa038c9",
   "metadata": {},
   "outputs": [
    {
     "data": {
      "text/plain": [
       "['customer1@example.com', 'customer3@example.com', 'customer5@example.com']"
      ]
     },
     "execution_count": 23,
     "metadata": {},
     "output_type": "execute_result"
    }
   ],
   "source": [
    "updated_email"
   ]
  },
  {
   "cell_type": "markdown",
   "id": "af78335e-2c7b-4df8-b4c9-9ac03628da38",
   "metadata": {},
   "source": [
    "# . Stock Price Analysis (Loops, Lists & Conditions)\n",
    "DataTech needs to analyze stock prices. You are given a list of daily prices for a stock. You need to determine how many days the price went up from the previous day.\n",
    "Question: Write a Python program that takes a list of stock prices and returns the number of days the stock price increased compared to the previous day.\n",
    "Example:\n",
    "prices = [100, 102, 101, 105, 107, 103]\n",
    "For the list above, the program should return 3 (days 2, 4, and 5 had increases).\n"
   ]
  },
  {
   "cell_type": "code",
   "execution_count": 24,
   "id": "39aa13b6-d276-4058-ba7a-f0e34f7ebaae",
   "metadata": {},
   "outputs": [
    {
     "name": "stdout",
     "output_type": "stream",
     "text": [
      "3\n"
     ]
    }
   ],
   "source": [
    "prices = [100, 102, 101, 105, 107, 103] \n",
    "increase_count = 0\n",
    "for i in range(1, len(prices)):\n",
    "    if prices[i] > prices[i-1]:\n",
    "        increase_count+= 1\n",
    "print(increase_count)"
   ]
  },
  {
   "cell_type": "markdown",
   "id": "18ed53dc-c677-4ac0-9aa1-1d24d9886fcd",
   "metadata": {},
   "source": [
    "# Check if a Number is a Palindrome\n",
    "👉 Take an integer input and check if it reads the same backward (e.g., 121 is a palindrome, but 123 is not)."
   ]
  },
  {
   "cell_type": "code",
   "execution_count": 122,
   "id": "33a8bab3-032a-4931-be1d-2925861e07b5",
   "metadata": {},
   "outputs": [
    {
     "name": "stdout",
     "output_type": "stream",
     "text": [
      "321\n"
     ]
    }
   ],
   "source": [
    "num=123\n",
    "rev=0\n",
    "while num>0:\n",
    "    rev=(rev *10)+(num%10)\n",
    "    num=num//10\n",
    "print(rev)"
   ]
  },
  {
   "cell_type": "code",
   "execution_count": 28,
   "id": "77263ebb-43ea-4877-942c-0887c3f7f986",
   "metadata": {},
   "outputs": [
    {
     "data": {
      "text/plain": [
       "{0: 2, 1: 43, 2: 23, 3: 4, 4: 23, 5: 634}"
      ]
     },
     "execution_count": 28,
     "metadata": {},
     "output_type": "execute_result"
    }
   ],
   "source": [
    "numbers=[2,43,23,4,23,634]\n",
    "d = {}\n",
    "for index, number in enumerate(numbers):\n",
    "    d[index] = number\n",
    "d"
   ]
  },
  {
   "cell_type": "code",
   "execution_count": 27,
   "id": "254d9039-6d3e-41d1-9f34-89ec346849b5",
   "metadata": {},
   "outputs": [
    {
     "name": "stdout",
     "output_type": "stream",
     "text": [
      "{5: 634, 1: 43, 2: 23, 4: 23, 3: 4, 0: 2}\n"
     ]
    }
   ],
   "source": [
    "sorted_dict_desc = dict(sorted(d.items(), key=lambda x: x[1], reverse=True))\n",
    "\n",
    "print(sorted_dict_desc)"
   ]
  },
  {
   "cell_type": "code",
   "execution_count": 30,
   "id": "33302397-3527-42ca-bc01-a89d39f79dc9",
   "metadata": {},
   "outputs": [],
   "source": [
    "matrix = [\n",
    "    [1, 2, 3, 4],\n",
    "    [5, 6, 7, 8],\n",
    "    [9, 10, 11, 12],\n",
    "]"
   ]
  },
  {
   "cell_type": "code",
   "execution_count": 32,
   "id": "4b9893b0-9d88-47e5-bbda-559a3bdad058",
   "metadata": {},
   "outputs": [
    {
     "data": {
      "text/plain": [
       "[[1, 5, 9], [2, 6, 10], [3, 7, 11], [4, 8, 12]]"
      ]
     },
     "execution_count": 32,
     "metadata": {},
     "output_type": "execute_result"
    }
   ],
   "source": [
    "l = []\n",
    "for i in range(4):\n",
    "    transpose = []\n",
    "    for j in matrix:\n",
    "        \n",
    "        transpose.append(j[i])\n",
    "    l.append(transpose)\n",
    "l"
   ]
  }
 ],
 "metadata": {
  "kernelspec": {
   "display_name": "Python 3 (ipykernel)",
   "language": "python",
   "name": "python3"
  },
  "language_info": {
   "codemirror_mode": {
    "name": "ipython",
    "version": 3
   },
   "file_extension": ".py",
   "mimetype": "text/x-python",
   "name": "python",
   "nbconvert_exporter": "python",
   "pygments_lexer": "ipython3",
   "version": "3.12.9"
  }
 },
 "nbformat": 4,
 "nbformat_minor": 5
}
